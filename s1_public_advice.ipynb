{
  "nbformat": 4,
  "nbformat_minor": 0,
  "metadata": {
    "kernelspec": {
      "display_name": "Python 3",
      "language": "python",
      "name": "python3"
    },
    "language_info": {
      "codemirror_mode": {
        "name": "ipython",
        "version": 3
      },
      "file_extension": ".py",
      "mimetype": "text/x-python",
      "name": "python",
      "nbconvert_exporter": "python",
      "pygments_lexer": "ipython3",
      "version": "3.7.3"
    },
    "varInspector": {
      "cols": {
        "lenName": 16,
        "lenType": 16,
        "lenVar": 40
      },
      "kernels_config": {
        "python": {
          "delete_cmd_postfix": "",
          "delete_cmd_prefix": "del ",
          "library": "var_list.py",
          "varRefreshCmd": "print(var_dic_list())"
        },
        "r": {
          "delete_cmd_postfix": ") ",
          "delete_cmd_prefix": "rm(",
          "library": "var_list.r",
          "varRefreshCmd": "cat(var_dic_list()) "
        }
      },
      "types_to_exclude": [
        "module",
        "function",
        "builtin_function_or_method",
        "instance",
        "_Feature"
      ],
      "window_display": false
    },
    "colab": {
      "name": "s1_public_advice.ipynb",
      "provenance": [],
      "collapsed_sections": [],
      "include_colab_link": true
    }
  },
  "cells": [
    {
      "cell_type": "markdown",
      "metadata": {
        "id": "view-in-github",
        "colab_type": "text"
      },
      "source": [
        "<a href=\"https://colab.research.google.com/github/deregenboogm/NLP_coronavirus_project/blob/master/s1_public_advice.ipynb\" target=\"_parent\"><img src=\"https://colab.research.google.com/assets/colab-badge.svg\" alt=\"Open In Colab\"/></a>"
      ]
    },
    {
      "cell_type": "markdown",
      "metadata": {
        "id": "CX7bhCaeFjIm",
        "colab_type": "text"
      },
      "source": [
        "# NLP DEEPLO AI Project Part II: Section 1. Public Advice\n",
        "Task: \n",
        "1. Webscraping a table content\n",
        "\n",
        "  a. With BeautifulSoup\n",
        "\n",
        "  b. (Alternative) With PANDAS\n",
        "\n",
        "2. Store data\n",
        "\n",
        "3. Visualize data\n",
        "\n",
        "\n",
        "*   The section presents practical information provided by an official web site of European Union, which is European Commission, aiming at keeping people stay healty against COVID-19 (Coronavirus).\n",
        "\n"
      ]
    },
    {
      "cell_type": "code",
      "metadata": {
        "id": "zw8NZ-unFjIo",
        "colab_type": "code",
        "colab": {}
      },
      "source": [
        "import requests\n",
        "from bs4 import BeautifulSoup\n",
        "import pandas as pd"
      ],
      "execution_count": 0,
      "outputs": []
    },
    {
      "cell_type": "code",
      "metadata": {
        "id": "DPHvdq4HFjIv",
        "colab_type": "code",
        "outputId": "a45a8fb4-09f6-4b3c-e158-def95b5954bb",
        "colab": {
          "base_uri": "https://localhost:8080/",
          "height": 35
        }
      },
      "source": [
        "url = 'https://ec.europa.eu/info/live-work-travel-eu/health/coronavirus-response/public-health/stay-healthy-practical-information_en'\n",
        "r = requests.get(url)\n",
        "r.status_code"
      ],
      "execution_count": 5,
      "outputs": [
        {
          "output_type": "execute_result",
          "data": {
            "text/plain": [
              "200"
            ]
          },
          "metadata": {
            "tags": []
          },
          "execution_count": 5
        }
      ]
    },
    {
      "cell_type": "code",
      "metadata": {
        "id": "M9N6eTl6FjI2",
        "colab_type": "code",
        "outputId": "920af78e-eac2-41e8-cafe-a66bc19a7691",
        "colab": {
          "base_uri": "https://localhost:8080/",
          "height": 55
        }
      },
      "source": [
        "r.content"
      ],
      "execution_count": 6,
      "outputs": [
        {
          "output_type": "execute_result",
          "data": {
            "text/plain": [
              "b'<!DOCTYPE html>\\n<!--[if IE 8 ]>\\n  <html class=\"no-js ie8\" lang=\"en\" dir=\"ltr\" prefix=\"og: http://ogp.me/ns# article: http://ogp.me/ns/article# book: http://ogp.me/ns/book# profile: http://ogp.me/ns/profile# video: http://ogp.me/ns/video# product: http://ogp.me/ns/product# content: http://purl.org/rss/1.0/modules/content/ dc: http://purl.org/dc/terms/ foaf: http://xmlns.com/foaf/0.1/ rdfs: http://www.w3.org/2000/01/rdf-schema# sioc: http://rdfs.org/sioc/ns# sioct: http://rdfs.org/sioc/types# skos: http://www.w3.org/2004/02/skos/core# xsd: http://www.w3.org/2001/XMLSchema#\">\\n<![endif]-->\\n<!--[if (gt IE 8)|!(IE)]><!-->\\n  <html class=\"no-js\" lang=\"en\" dir=\"ltr\" prefix=\"og: http://ogp.me/ns# article: http://ogp.me/ns/article# book: http://ogp.me/ns/book# profile: http://ogp.me/ns/profile# video: http://ogp.me/ns/video# product: http://ogp.me/ns/product# content: http://purl.org/rss/1.0/modules/content/ dc: http://purl.org/dc/terms/ foaf: http://xmlns.com/foaf/0.1/ rdfs: http://www.w3.org/2000/01/rdf-schema# sioc: http://rdfs.org/sioc/ns# sioct: http://rdfs.org/sioc/types# skos: http://www.w3.org/2004/02/skos/core# xsd: http://www.w3.org/2001/XMLSchema#\">\\n<!--<![endif]-->\\n<head profile=\"http://www.w3.org/1999/xhtml/vocab\">\\n  <meta charset=\"utf-8\">\\n  <meta http-equiv=\"X-UA-Compatible\" content=\"IE=edge\" />\\n  <meta name=\"viewport\" content=\"width=device-width, initial-scale=1.0\">\\n  <meta http-equiv=\"Content-Type\" content=\"text/html; charset=utf-8\" />\\n<meta name=\"msapplication-square150x150logo\" content=\"/info/sites/info/themes/europa/images/png/favicon/mstile-150x150.png\" />\\n<meta name=\"msapplication-square70x70logo\" content=\"/info/sites/info/themes/europa/images/png/favicon/mstile-70x70.png\" />\\n<meta name=\"msapplication-TileImage\" content=\"/info/sites/info/themes/europa/images/png/favicon/mstile-144x144.png\" />\\n<meta name=\"msapplication-wide310x150logo\" content=\"/info/sites/info/themes/europa/images/png/favicon/mstile-310x150.png\" />\\n<meta name=\"theme-color\" content=\"#034ea1\" />\\n<meta name=\"msapplication-square310x310logo\" content=\"/info/sites/info/themes/europa/images/png/favicon/mstile-310x310.png\" />\\n<link rel=\"alternate\" hreflang=\"sl\" href=\"https://ec.europa.eu/info/live-work-travel-eu/health/coronavirus-response/public-health/stay-healthy-practical-information_sl\" />\\n<link rel=\"alternate\" hreflang=\"fi\" href=\"https://ec.europa.eu/info/live-work-travel-eu/health/coronavirus-response/public-health/stay-healthy-practical-information_fi\" />\\n<link rel=\"shortcut icon\" href=\"https://ec.europa.eu/info/sites/info/themes/information/favicon.ico\" type=\"image/vnd.microsoft.icon\" />\\n<script type=\"application/ld+json\">\\n{\"@context\":\"http:\\\\/\\\\/schema.org\",\"@type\":\"BreadcrumbList\",\"itemListElement\":[{\"@type\":\"ListItem\",\"position\":1,\"item\":{\"@id\":\"https:\\\\/\\\\/ec.europa.eu\\\\/info\",\"name\":\"Home\"}},{\"@type\":\"ListItem\",\"position\":2,\"item\":{\"@id\":\"https:\\\\/\\\\/ec.europa.eu\\\\/info\\\\/live-work-travel-eu\",\"name\":\"Live, work, travel in the EU\"}},{\"@type\":\"ListItem\",\"position\":3,\"item\":{\"@id\":\"https:\\\\/\\\\/ec.europa.eu\\\\/info\\\\/live-work-travel-eu\\\\/health\",\"name\":\"Health\"}},{\"@type\":\"ListItem\",\"position\":4,\"item\":{\"@id\":\"https:\\\\/\\\\/ec.europa.eu\\\\/info\\\\/live-work-travel-eu\\\\/health\\\\/coronavirus-response\",\"name\":\"Coronavirus response\"}},{\"@type\":\"ListItem\",\"position\":5,\"item\":{\"@id\":\"https:\\\\/\\\\/ec.europa.eu\\\\/info\\\\/live-work-travel-eu\\\\/health\\\\/coronavirus-response\\\\/public-health\",\"name\":\"Public health\"}},{\"@type\":\"ListItem\",\"position\":6,\"item\":{\"@id\":\"https:\\\\/\\\\/ec.europa.eu\\\\/info\\\\/live-work-travel-eu\\\\/health\\\\/coronavirus-response\\\\/public-health\\\\/stay-healthy-practical-information\",\"name\":\"Stay healthy - practical information\"}},{\"@type\":\"ListItem\",\"position\":6,\"item\":{\"@id\":\"https:\\\\/\\\\/ec.europa.eu\\\\/info\\\\/live-work-travel-eu\\\\/health\\\\/coronavirus-response\\\\/public-health\\\\/stay-healthy-practical-information_en\",\"name\":\"Stay healthy - practical information\"}}]}\\n</script>\\n<meta name=\"msapplication-TileColor\" content=\"#034ea1\" />\\n<link rel=\"icon\" type=\"image/png\" sizes=\"16x16\" href=\"/info/sites/info/themes/europa/images/png/favicon/favicon-16x16.png\" />\\n<link rel=\"apple-touch-icon\" sizes=\"114x114\" href=\"/info/sites/info/themes/europa/images/png/favicon/apple-touch-icon-114x114.png\" />\\n<link rel=\"apple-touch-icon\" sizes=\"120x120\" href=\"/info/sites/info/themes/europa/images/png/favicon/apple-touch-icon-120x120.png\" />\\n<link rel=\"apple-touch-icon\" sizes=\"60x60\" href=\"/info/sites/info/themes/europa/images/png/favicon/apple-touch-icon-60x60.png\" />\\n<link rel=\"apple-touch-icon\" sizes=\"57x57\" href=\"/info/sites/info/themes/europa/images/png/favicon/apple-touch-icon-57x57.png\" />\\n<!--[if IE 9]><script src=\"sites/info/themes/europa/js/ie9.js\" />\\n</script><![endif]--><link rel=\"apple-touch-icon\" sizes=\"144x144\" href=\"/info/sites/info/themes/europa/images/png/favicon/apple-touch-icon-144x144.png\" />\\n<link rel=\"apple-touch-icon\" sizes=\"152x152\" href=\"/info/sites/info/themes/europa/images/png/favicon/apple-touch-icon-152x152.png\" />\\n<link rel=\"icon\" type=\"image/png\" sizes=\"96x96\" href=\"/info/sites/info/themes/europa/images/png/favicon/favicon-96x96.png\" />\\n<link rel=\"icon\" type=\"image/png\" sizes=\"192x192\" href=\"/info/sites/info/themes/europa/images/png/favicon/android-chrome-192x192.png\" />\\n<link rel=\"icon\" type=\"image/png\" sizes=\"32x32\" href=\"/info/sites/info/themes/europa/images/png/favicon/favicon-32x32.png\" />\\n<link rel=\"apple-touch-icon\" sizes=\"180x180\" href=\"/info/sites/info/themes/europa/images/png/favicon/apple-touch-icon-180x180.png\" />\\n<link rel=\"alternate\" hreflang=\"sk\" href=\"https://ec.europa.eu/info/live-work-travel-eu/health/coronavirus-response/public-health/stay-healthy-practical-information_sk\" />\\n<link rel=\"alternate\" hreflang=\"sv\" href=\"https://ec.europa.eu/info/live-work-travel-eu/health/coronavirus-response/public-health/stay-healthy-practical-information_sv\" />\\n<link rel=\"alternate\" hreflang=\"ro\" href=\"https://ec.europa.eu/info/live-work-travel-eu/health/coronavirus-response/public-health/stay-healthy-practical-information_ro\" />\\n<link rel=\"alternate\" hreflang=\"el\" href=\"https://ec.europa.eu/info/live-work-travel-eu/health/coronavirus-response/public-health/stay-healthy-practical-information_el\" />\\n<link rel=\"alternate\" hreflang=\"en\" href=\"https://ec.europa.eu/info/live-work-travel-eu/health/coronavirus-response/public-health/stay-healthy-practical-information_en\" />\\n<meta name=\"twitter:image\" content=\"https://ec.europa.eu/info/sites/info/modules/custom/dt_shared_functions/images/ec_logo.png\" />\\n<link rel=\"alternate\" hreflang=\"et\" href=\"https://ec.europa.eu/info/live-work-travel-eu/health/coronavirus-response/public-health/stay-healthy-practical-information_et\" />\\n<meta property=\"og:image\" content=\"https://ec.europa.eu/info/sites/info/modules/custom/dt_shared_functions/images/ec_logo.png\" />\\n<link rel=\"alternate\" hreflang=\"bg\" href=\"https://ec.europa.eu/info/live-work-travel-eu/health/coronavirus-response/public-health/stay-healthy-practical-information_bg\" />\\n<link rel=\"alternate\" hreflang=\"cs\" href=\"https://ec.europa.eu/info/live-work-travel-eu/health/coronavirus-response/public-health/stay-healthy-practical-information_cs\" />\\n<link rel=\"alternate\" hreflang=\"da\" href=\"https://ec.europa.eu/info/live-work-travel-eu/health/coronavirus-response/public-health/stay-healthy-practical-information_da\" />\\n<link rel=\"alternate\" hreflang=\"de\" href=\"https://ec.europa.eu/info/live-work-travel-eu/health/coronavirus-response/public-health/stay-healthy-practical-information_de\" />\\n<link rel=\"alternate\" hreflang=\"fr\" href=\"https://ec.europa.eu/info/live-work-travel-eu/health/coronavirus-response/public-health/stay-healthy-practical-information_fr\" />\\n<link rel=\"alternate\" hreflang=\"ga\" href=\"https://ec.europa.eu/info/live-work-travel-eu/health/coronavirus-response/public-health/stay-healthy-practical-information_ga\" />\\n<link rel=\"alternate\" hreflang=\"mt\" href=\"https://ec.europa.eu/info/live-work-travel-eu/health/coronavirus-response/public-health/stay-healthy-practical-information_mt\" />\\n<link rel=\"alternate\" hreflang=\"nl\" href=\"https://ec.europa.eu/info/live-work-travel-eu/health/coronavirus-response/public-health/stay-healthy-practical-information_nl\" />\\n<link rel=\"alternate\" hreflang=\"pl\" href=\"https://ec.europa.eu/info/live-work-travel-eu/health/coronavirus-response/public-health/stay-healthy-practical-information_pl\" />\\n<link rel=\"alternate\" hreflang=\"pt\" href=\"https://ec.europa.eu/info/live-work-travel-eu/health/coronavirus-response/public-health/stay-healthy-practical-information_pt\" />\\n<link rel=\"alternate\" hreflang=\"hu\" href=\"https://ec.europa.eu/info/live-work-travel-eu/health/coronavirus-response/public-health/stay-healthy-practical-information_hu\" />\\n<link rel=\"alternate\" hreflang=\"lt\" href=\"https://ec.europa.eu/info/live-work-travel-eu/health/coronavirus-response/public-health/stay-healthy-practical-information_lt\" />\\n<link rel=\"alternate\" hreflang=\"hr\" href=\"https://ec.europa.eu/info/live-work-travel-eu/health/coronavirus-response/public-health/stay-healthy-practical-information_hr\" />\\n<link rel=\"alternate\" hreflang=\"es\" href=\"https://ec.europa.eu/info/live-work-travel-eu/health/coronavirus-response/public-health/stay-healthy-practical-information_es\" />\\n<link rel=\"alternate\" hreflang=\"it\" href=\"https://ec.europa.eu/info/live-work-travel-eu/health/coronavirus-response/public-health/stay-healthy-practical-information_it\" />\\n<link rel=\"alternate\" hreflang=\"lv\" href=\"https://ec.europa.eu/info/live-work-travel-eu/health/coronavirus-response/public-health/stay-healthy-practical-information_lv\" />\\n<meta name=\"description\" content=\"List of most frequently asked questions (FAQs) on hygiene measures related to COVID-19\" />\\n<meta name=\"robots\" content=\"follow, index\" />\\n<meta name=\"generator\" content=\"Drupal 7 (http://drupal.org)\" />\\n<link rel=\"canonical\" href=\"https://ec.europa.eu/info/live-work-travel-eu/health/coronavirus-response/public-health/stay-healthy-practical-information_en\" />\\n<link rel=\"shortlink\" href=\"https://ec.europa.eu/info/live-work-travel-eu/health/coronavirus-response/public-health/stay-healthy-practical-information_en\" />\\n<meta property=\"fb:admins\" content=\"107898832590939\" />\\n<meta name=\"revisit-after\" content=\"15 days\" />\\n<meta property=\"og:site_name\" content=\"European Commission - European Commission\" />\\n<meta property=\"og:type\" content=\"website\" />\\n<meta property=\"og:title\" content=\"Stay healthy - practical information\" />\\n<meta property=\"og:url\" content=\"https://ec.europa.eu/info/live-work-travel-eu/health/coronavirus-response/public-health/stay-healthy-practical-information_en\" />\\n<meta property=\"og:description\" content=\"List of most frequently asked questions (FAQs) on hygiene measures related to COVID-19\" />\\n<meta property=\"og:updated_time\" content=\"2020-04-20T21:47:55+02:00\" />\\n<meta name=\"twitter:card\" content=\"summary_large_image\" />\\n<meta name=\"twitter:site\" content=\"@EU_Commission\" />\\n<meta name=\"twitter:creator\" content=\"@EU_Commission\" />\\n<meta name=\"twitter:title\" content=\"Stay healthy - practical information\" />\\n<meta name=\"twitter:description\" content=\"List of most frequently asked questions (FAQs) on hygiene measures related to COVID-19\" />\\n<meta name=\"dcterms.title\" content=\"Stay healthy - practical information\" />\\n<meta name=\"dcterms.type\" content=\"Text\" />\\n<meta name=\"dcterms.format\" content=\"text/html\" />\\n<meta name=\"dcterms.identifier\" content=\"https://ec.europa.eu/info/live-work-travel-eu/health/coronavirus-response/public-health/stay-healthy-practical-information_en\" />\\n<meta name=\"last-modified\" content=\"20/04/2020\" />\\n<meta name=\"ec_departments\" content=\"COMM\" />\\n<meta name=\"creator\" content=\"COMM/DG/UNIT\" />\\n<meta name=\"reference\" content=\"European Commission\" />\\n<meta name=\"X-UA-Compatible\" content=\"IE=edge\" />\\n<meta name=\"date\" content=\"31/03/2020\" />\\n<meta name=\"classification\" content=\"16000\" />\\n  <title>Stay healthy - practical information | European Commission</title>\\n  <link type=\"text/css\" rel=\"stylesheet\" href=\"https://ec.europa.eu/info/sites/info/files/css/css_w8xk9_LdffDX1osjOMil0_i1x1J9F-pK5pzIjdhIFdc.css\" media=\"all\" />\\n<link type=\"text/css\" rel=\"stylesheet\" href=\"https://ec.europa.eu/info/sites/info/files/css/css_aTcngf6zuzo6ZS3XyuAGCFFhwvHuzKUWWISA2_g_ZKE.css\" media=\"all\" />\\n<link type=\"text/css\" rel=\"stylesheet\" href=\"https://ec.europa.eu/info/sites/info/files/css/css_Vm2H8di2AhYQjOEP1rBV3jRMrV5dNLMiMmE6n3vRb0E.css\" media=\"all\" />\\n\\n<!--[if IE 9]>\\n<link type=\"text/css\" rel=\"stylesheet\" href=\"https://ec.europa.eu/info/sites/info/files/css/css_WvlpNWqaoAxyghHgGd01HdAofQyyNfnsGS-yHu4pCAs.css\" media=\"all\" />\\n<![endif]-->\\n<link type=\"text/css\" rel=\"stylesheet\" href=\"https://ec.europa.eu/info/sites/info/files/css/css_E72Y9rXJRZzgjZ3c0D6TjEwO12cMEv5zUBmp3RCQdBg.css\" media=\"all\" />\\n<link type=\"text/css\" rel=\"stylesheet\" href=\"https://ec.europa.eu/info/sites/info/themes/europa/css/style-sass-base.css?qbgkv5\" media=\"all\" />\\n<link type=\"text/css\" rel=\"stylesheet\" href=\"https://ec.europa.eu/info/sites/info/files/css/css_LhTN_Qd0dmU0fbE8HVHlIbrWol37H_A4DRsCEOkXw2E.css\" media=\"all\" />\\n  <!-- HTML5 element support for IE6-8 -->\\n  <!--[if lte IE 9]>\\n    <script src=\"/info/sites/info/themes/europa/js/libraries/matchMedia/matchMedia.js\"></script>\\n    <script src=\"/info/sites/info/themes/europa/js/libraries/matchMedia/matchMedia.addListener.js\"></script>\\n  <![endif]-->\\n  <!--[if lt IE 9]>\\n    <script src=\"/info/sites/info/themes/europa/js/libraries/html5shiv.min.js\"></script>\\n    <script src=\"/info/sites/info/themes/europa/js/libraries/respond.min.js\"></script>\\n  <![endif]-->\\n  <script src=\"//ec.europa.eu/wel/cookie-consent/consent.js\"></script>\\n<script src=\"https://ec.europa.eu/info/profiles/multisite_drupal_standard/modules/contrib/jquery_update/replace/jquery/1.10/jquery.min.js?v=1.10.2\"></script>\\n<script src=\"https://ec.europa.eu/info/misc/jquery-extend-3.4.0.js?v=1.10.2\"></script>\\n<script src=\"https://ec.europa.eu/info/misc/jquery.once.js?v=1.2\"></script>\\n<script src=\"https://ec.europa.eu/info/misc/drupal.js?qbgkv5\"></script>\\n<script src=\"https://ec.europa.eu/info/profiles/multisite_drupal_standard/modules/contrib/jquery_update/replace/ui/external/jquery.cookie.js?v=67fb34f6a866c40d0570\"></script>\\n<script src=\"https://ec.europa.eu/info/profiles/multisite_drupal_standard/modules/contrib/jquery_update/replace/misc/jquery.form.min.js?v=2.69\"></script>\\n<script src=\"https://ec.europa.eu/info/misc/ajax.js?v=7.69\"></script>\\n<script src=\"https://ec.europa.eu/info/profiles/multisite_drupal_standard/modules/contrib/jquery_update/js/jquery_update.js?v=0.0.1\"></script>\\n<script>document.createElement( \"picture\" );</script>\\n<script src=\"https://ec.europa.eu/info/profiles/multisite_drupal_standard/modules/contrib/video/js/video.js?qbgkv5\"></script>\\n<script src=\"https://ec.europa.eu/info/sites/info/themes/bootstrap/js/misc/_progress.js?v=7.69\"></script>\\n<script src=\"https://ec.europa.eu/info/profiles/multisite_drupal_standard/modules/contrib/maxlength/js/maxlength.js?qbgkv5\"></script>\\n<script src=\"https://ec.europa.eu/info/sites/info/modules/custom/nexteuropa_feedback/js/nexteuropa_feedback.js?qbgkv5\"></script>\\n<script src=\"https://ec.europa.eu/info/sites/info/modules/custom/ec-europa-theme-tools/nexteuropa_language_selector_site_popup/js/nexteuropa_language_selector_site_popup.js?qbgkv5\"></script>\\n<script src=\"https://ec.europa.eu/info/sites/info/themes/europa/js/components/lang-select-site.js?qbgkv5\"></script>\\n<script src=\"https://ec.europa.eu/info/profiles/multisite_drupal_standard/modules/contrib/field_group/field_group.js?qbgkv5\"></script>\\n<script src=\"https://ec.europa.eu/info/sites/info/themes/europa/js/components/breadcrumb.js?qbgkv5\"></script>\\n<script src=\"https://ec.europa.eu/info/profiles/multisite_drupal_standard/modules/custom/language_selector_page/js/language_selector_page.js?qbgkv5\"></script>\\n<script src=\"//ec.europa.eu/wel/surveys/wr_survey01/wr_survey.js\"></script>\\n<script defer=\"defer\" src=\"//europa.eu/webtools/load.js?globan=1110\"></script>\\n<script src=\"https://ec.europa.eu/info/sites/info/themes/europa/bootstrap-sass/js/bootstrap/affix.js?qbgkv5\"></script>\\n<script src=\"https://ec.europa.eu/info/sites/info/themes/europa/bootstrap-sass/js/bootstrap/alert.js?qbgkv5\"></script>\\n<script src=\"https://ec.europa.eu/info/sites/info/themes/europa/bootstrap-sass/js/bootstrap/collapse.js?qbgkv5\"></script>\\n<script src=\"https://ec.europa.eu/info/sites/info/themes/europa/bootstrap-sass/js/bootstrap/dropdown.js?qbgkv5\"></script>\\n<script src=\"https://ec.europa.eu/info/sites/info/themes/europa/bootstrap-sass/js/bootstrap/tooltip.js?qbgkv5\"></script>\\n<script src=\"https://ec.europa.eu/info/sites/info/themes/europa/bootstrap-sass/js/bootstrap/popover.js?qbgkv5\"></script>\\n<script src=\"https://ec.europa.eu/info/sites/info/themes/europa/bootstrap-sass/js/bootstrap/scrollspy.js?qbgkv5\"></script>\\n<script src=\"https://ec.europa.eu/info/sites/info/themes/europa/bootstrap-sass/js/bootstrap/tab.js?qbgkv5\"></script>\\n<script src=\"https://ec.europa.eu/info/sites/info/themes/europa/bootstrap-sass/js/bootstrap/transition.js?qbgkv5\"></script>\\n<script src=\"https://ec.europa.eu/info/sites/info/themes/europa/js/libraries/modernizr/modernizr.js?qbgkv5\"></script>\\n<script src=\"https://ec.europa.eu/info/sites/info/themes/europa/js/libraries/enquire.min.js?qbgkv5\"></script>\\n<script src=\"https://ec.europa.eu/info/sites/info/themes/europa/js/libraries/jquery.equalheight.min.js?qbgkv5\"></script>\\n<script src=\"https://ec.europa.eu/info/sites/info/themes/europa/js/misc/ajax.js?qbgkv5\"></script>\\n<script src=\"https://ec.europa.eu/info/sites/info/themes/europa/js/europa.js?qbgkv5\"></script>\\n<script src=\"https://ec.europa.eu/info/sites/info/themes/europa/js/europa_tabs.js?qbgkv5\"></script>\\n<script src=\"https://ec.europa.eu/info/sites/info/themes/europa/js/components/table-responsive.js?qbgkv5\"></script>\\n<script src=\"https://ec.europa.eu/info/sites/info/themes/europa/js/components/file.js?qbgkv5\"></script>\\n<script src=\"https://ec.europa.eu/info/sites/info/themes/europa/js/libraries/superclamp.min.js?qbgkv5\"></script>\\n<script src=\"https://ec.europa.eu/info/sites/info/themes/europa/js/libraries/jquery.tablesorter.min.js?qbgkv5\"></script>\\n<script>jQuery.extend(Drupal.settings, {\"basePath\":\"\\\\/info\\\\/\",\"pathPrefix\":\"\",\"ajaxPageState\":{\"theme\":\"information\",\"theme_token\":\"Xie0xO-aaZiKuGRePJ3FtDnFaHZjRLFDJX08YPj0BH4\",\"jquery_version\":\"1.10\",\"js\":{\"sites\\\\/info\\\\/modules\\\\/contrib\\\\/picture\\\\/picturefill2\\\\/picturefill.min.js\":1,\"sites\\\\/info\\\\/modules\\\\/contrib\\\\/picture\\\\/picture.min.js\":1,\"sites\\\\/info\\\\/themes\\\\/bootstrap\\\\/js\\\\/bootstrap.js\":1,\"\\\\/\\\\/ec.europa.eu\\\\/wel\\\\/cookie-consent\\\\/consent.js\":1,\"profiles\\\\/multisite_drupal_standard\\\\/modules\\\\/contrib\\\\/jquery_update\\\\/replace\\\\/jquery\\\\/1.10\\\\/jquery.min.js\":1,\"misc\\\\/jquery-extend-3.4.0.js\":1,\"misc\\\\/jquery.once.js\":1,\"misc\\\\/drupal.js\":1,\"profiles\\\\/multisite_drupal_standard\\\\/modules\\\\/contrib\\\\/jquery_update\\\\/replace\\\\/ui\\\\/external\\\\/jquery.cookie.js\":1,\"profiles\\\\/multisite_drupal_standard\\\\/modules\\\\/contrib\\\\/jquery_update\\\\/replace\\\\/misc\\\\/jquery.form.min.js\":1,\"misc\\\\/ajax.js\":1,\"profiles\\\\/multisite_drupal_standard\\\\/modules\\\\/contrib\\\\/jquery_update\\\\/js\\\\/jquery_update.js\":1,\"0\":1,\"profiles\\\\/multisite_drupal_standard\\\\/modules\\\\/contrib\\\\/video\\\\/js\\\\/video.js\":1,\"sites\\\\/info\\\\/themes\\\\/bootstrap\\\\/js\\\\/misc\\\\/_progress.js\":1,\"profiles\\\\/multisite_drupal_standard\\\\/modules\\\\/contrib\\\\/maxlength\\\\/js\\\\/maxlength.js\":1,\"sites\\\\/info\\\\/modules\\\\/custom\\\\/nexteuropa_feedback\\\\/js\\\\/nexteuropa_feedback.js\":1,\"sites\\\\/info\\\\/modules\\\\/custom\\\\/ec-europa-theme-tools\\\\/nexteuropa_language_selector_site_popup\\\\/js\\\\/nexteuropa_language_selector_site_popup.js\":1,\"sites\\\\/info\\\\/themes\\\\/europa\\\\/js\\\\/components\\\\/lang-select-site.js\":1,\"profiles\\\\/multisite_drupal_standard\\\\/modules\\\\/contrib\\\\/field_group\\\\/field_group.js\":1,\"sites\\\\/info\\\\/themes\\\\/europa\\\\/js\\\\/components\\\\/breadcrumb.js\":1,\"profiles\\\\/multisite_drupal_standard\\\\/modules\\\\/custom\\\\/language_selector_page\\\\/js\\\\/language_selector_page.js\":1,\"\\\\/\\\\/ec.europa.eu\\\\/wel\\\\/surveys\\\\/wr_survey01\\\\/wr_survey.js\":1,\"\\\\/\\\\/europa.eu\\\\/webtools\\\\/load.js?globan=1110\":1,\"sites\\\\/info\\\\/themes\\\\/europa\\\\/bootstrap-sass\\\\/js\\\\/bootstrap\\\\/affix.js\":1,\"sites\\\\/info\\\\/themes\\\\/europa\\\\/bootstrap-sass\\\\/js\\\\/bootstrap\\\\/alert.js\":1,\"sites\\\\/info\\\\/themes\\\\/europa\\\\/bootstrap-sass\\\\/js\\\\/bootstrap\\\\/collapse.js\":1,\"sites\\\\/info\\\\/themes\\\\/europa\\\\/bootstrap-sass\\\\/js\\\\/bootstrap\\\\/dropdown.js\":1,\"sites\\\\/info\\\\/themes\\\\/europa\\\\/bootstrap-sass\\\\/js\\\\/bootstrap\\\\/tooltip.js\":1,\"sites\\\\/info\\\\/themes\\\\/europa\\\\/bootstrap-sass\\\\/js\\\\/bootstrap\\\\/popover.js\":1,\"sites\\\\/info\\\\/themes\\\\/europa\\\\/bootstrap-sass\\\\/js\\\\/bootstrap\\\\/scrollspy.js\":1,\"sites\\\\/info\\\\/themes\\\\/europa\\\\/bootstrap-sass\\\\/js\\\\/bootstrap\\\\/tab.js\":1,\"sites\\\\/info\\\\/themes\\\\/europa\\\\/bootstrap-sass\\\\/js\\\\/bootstrap\\\\/transition.js\":1,\"sites\\\\/info\\\\/themes\\\\/europa\\\\/js\\\\/libraries\\\\/modernizr\\\\/modernizr.js\":1,\"sites\\\\/info\\\\/themes\\\\/europa\\\\/js\\\\/libraries\\\\/enquire.min.js\":1,\"sites\\\\/info\\\\/themes\\\\/europa\\\\/js\\\\/libraries\\\\/jquery.equalheight.min.js\":1,\"sites\\\\/info\\\\/themes\\\\/europa\\\\/js\\\\/misc\\\\/ajax.js\":1,\"sites\\\\/info\\\\/themes\\\\/europa\\\\/js\\\\/europa.js\":1,\"sites\\\\/info\\\\/themes\\\\/europa\\\\/js\\\\/europa_tabs.js\":1,\"sites\\\\/info\\\\/themes\\\\/europa\\\\/js\\\\/components\\\\/table-responsive.js\":1,\"sites\\\\/info\\\\/themes\\\\/europa\\\\/js\\\\/components\\\\/file.js\":1,\"sites\\\\/info\\\\/themes\\\\/europa\\\\/js\\\\/libraries\\\\/superclamp.min.js\":1,\"sites\\\\/info\\\\/themes\\\\/europa\\\\/js\\\\/libraries\\\\/jquery.tablesorter.min.js\":1},\"css\":{\"modules\\\\/system\\\\/system.base.css\":1,\"profiles\\\\/multisite_drupal_standard\\\\/modules\\\\/features\\\\/cce_basic_config\\\\/cce_basic_config.css\":1,\"profiles\\\\/multisite_drupal_standard\\\\/modules\\\\/contrib\\\\/ckeditor_lite\\\\/css\\\\/ckeditor_lite.all.css\":1,\"sites\\\\/info\\\\/modules\\\\/contrib\\\\/date\\\\/date_popup\\\\/themes\\\\/datepicker.1.7.css\":1,\"profiles\\\\/multisite_drupal_standard\\\\/modules\\\\/custom\\\\/ecas\\\\/ecas_import_users\\\\/css\\\\/ecas_import_users.css\":1,\"modules\\\\/field\\\\/theme\\\\/field.css\":1,\"modules\\\\/node\\\\/node.css\":1,\"sites\\\\/info\\\\/modules\\\\/contrib\\\\/picture\\\\/picture_wysiwyg.css\":1,\"profiles\\\\/multisite_drupal_standard\\\\/modules\\\\/contrib\\\\/views\\\\/css\\\\/views.css\":1,\"profiles\\\\/multisite_drupal_standard\\\\/modules\\\\/contrib\\\\/ctools\\\\/css\\\\/ctools.css\":1,\"profiles\\\\/multisite_drupal_standard\\\\/modules\\\\/contrib\\\\/rate\\\\/rate.css\":1,\"profiles\\\\/multisite_drupal_standard\\\\/modules\\\\/contrib\\\\/tagclouds\\\\/tagclouds.css\":1,\"profiles\\\\/multisite_drupal_standard\\\\/modules\\\\/contrib\\\\/video\\\\/css\\\\/video.css\":1,\"profiles\\\\/multisite_drupal_standard\\\\/modules\\\\/contrib\\\\/print\\\\/print_ui\\\\/css\\\\/print_ui.theme.css\":1,\"sites\\\\/info\\\\/modules\\\\/features\\\\/dt_social_network_links\\\\/css\\\\/dt_social_network_links.css\":1,\"profiles\\\\/multisite_drupal_standard\\\\/modules\\\\/custom\\\\/multisite_drupal_toolbox\\\\/icons\\\\/style.css\":1,\"sites\\\\/info\\\\/themes\\\\/europa\\\\/css\\\\/ie9.css\":1,\"public:\\\\/\\\\/social_network_icons\\\\/social_network_icons.css\":1,\"sites\\\\/info\\\\/themes\\\\/europa\\\\/css\\\\/style-sass-base.css\":1,\"sites\\\\/info\\\\/themes\\\\/europa\\\\/css\\\\/style-sass-components.css\":1,\"sites\\\\/info\\\\/themes\\\\/information\\\\/css\\\\/style.css\":1}},\"nexteuropa_feedback\":{\"useful_form_url\":\"https:\\\\/\\\\/ec.europa.eu\\\\/info\\\\/nexteuropa-useful-form\\\\/load_en\",\"feedback_form_url\":\"https:\\\\/\\\\/ec.europa.eu\\\\/info\\\\/nexteuropa-feedback-form\\\\/load_en\"},\"urlIsAjaxTrusted\":{\"https:\\\\/\\\\/ec.europa.eu\\\\/search\\\\/?\":true},\"field_group\":{\"context_nav\":\"full\",\"section_group\":\"full\"},\"ogContext\":{\"groupType\":\"node\",\"gid\":\"6591\"},\"password\":{\"strengthTitle\":\"Password compliance:\"},\"type\":\"setting\",\"bootstrap\":{\"anchorsFix\":0,\"anchorsSmoothScrolling\":0,\"formHasError\":1,\"popoverEnabled\":1,\"popoverOptions\":{\"animation\":1,\"html\":0,\"placement\":\"right\",\"selector\":\"\",\"trigger\":\"click\",\"triggerAutoclose\":1,\"title\":\"\",\"content\":\"\",\"delay\":0,\"container\":\"body\"},\"tooltipEnabled\":0,\"tooltipOptions\":{\"animation\":1,\"html\":0,\"placement\":\"auto left\",\"selector\":\"\",\"trigger\":\"hover focus\",\"delay\":0,\"container\":\"body\"}}});</script>\\n</head>\\n<body class=\"html not-front not-logged-in no-sidebars page-node page-node- page-node-130212 node-type-basic-page og-context og-context-node og-context-node-6591 i18n-en language-en ne-entity-three-col-bottom\" >\\n  <div id=\"skip-link\">\\n    <a href=\"#main-content\" class=\"element-invisible element-focusable\">Skip to main content</a>\\n  </div>\\n    \\n<header class=\"site-header\" role=\"banner\">\\n  <div class=\"container-fluid\">\\n      <a href=\"/info/index_en\" class=\"logo site-header__logo logo--logotype\" title=\"Home - European Commission\">\\n      <img class=\"logo__image img-responsive\" typeof=\"foaf:Image\" src=\"https://ec.europa.eu/info/sites/info/themes/europa/images/svg/logo/logo--en.svg\" alt=\"\" />      <span class=\"sr-only\">Home - European Commission</span>\\n    </a>\\n  \\n  \\n      <section class=\"top-bar\" aria-label=\"Site tools\">\\n            <div class=\"region region-header\">\\n    <section class=\"block block-language-selector-site lang-select-site lang-select-site clearfix\">\\n \\n  <a href=\"/info/splash_en?destination=node/130212?User-Agent=Mozilla/5.0\" class=\"lang-select-site__link\">\\n    <span class=\"lang-select-site__code\">\\n      <span class=\"icon icon--language lang-select-site__icon\"></span>\\n      <span class=\"lang-select-site__code-text\">en</span>\\n    </span>\\n    <span class=\"lang-select-site__label\">English</span>\\n  </a>\\n  <div class=\"splash-page splash-page--overlay\"></div>\\n</section>\\n<section id=\"block-nexteuropa-europa-search-nexteuropa-europa-search-form\" class=\"block block-nexteuropa-europa-search clearfix\">\\n\\n      \\n    <div class=\"search-form__wrapper\">\\n    <a class=\"search-form__toggle\" href=\"https://ec.europa.eu/search/?\">\\n      <span class=\"icon icon--search search-form__toggle-icon\"></span>\\n      <span class=\"search-form__toggle-label\">Search</span>\\n    </a>\\n    <form class=\"search-form\" action=\"https://ec.europa.eu/search/?\" method=\"get\" id=\"nexteuropa-europa-search-search-form\" accept-charset=\"UTF-8\"><div><div class=\"input-group input-group-search\"><div class=\"search-form__textfield-wrapper\"><div class=\"form-type-textfield form-item-QueryText form-item europa-textfield\">\\n  <label class=\"control-label element-invisible\" for=\"edit-querytext\">Search this website</label>\\n <input class=\"search-form__textfield form-control form-text\" title=\"Search\" type=\"search\" id=\"edit-querytext\" name=\"QueryText\" value=\"\" size=\"60\" maxlength=\"128\" />\\n</div>\\n</div><div class=\"input-group-btn search-form__btn-wrapper\"><button class=\"btn-search search-form__btn btn form-submit\" type=\"submit\" id=\"edit-europa-search-submit\" name=\"op\" value=\"Search\">Search</button>\\n</div></div><input type=\"hidden\" name=\"swlang\" value=\"en\" />\\n<input type=\"hidden\" name=\"form_build_id\" value=\"form--e7IAnIb12OSoDFR52i0sAJfqdseNRvDKa91D7wTNa0\" />\\n<input type=\"hidden\" name=\"form_id\" value=\"nexteuropa_europa_search_search_form\" />\\n</div></form>  </div>\\n  \\n</section>\\n  </div>\\n    </section>\\n    </div>\\n</header>\\n\\n\\n\\n<section class=\"main-content\" role=\"main\">\\n  <!-- Generic sections -->\\n  \\n    <div class=\"region region-content\">\\n    <section id=\"block-system-main\" class=\"block block-system clearfix\">\\n\\n      \\n    <div class=\"block__content\">\\n    \\n<div  about=\"/info/live-work-travel-eu/health/coronavirus-response/public-health/stay-healthy-practical-information_en\" typeof=\"sioc:Item foaf:Document\" class=\"node node-basic-page view-mode-full\">\\n\\n\\n  <!-- Page Header -->\\n  <div class=\"page-header\">\\n      <nav class=\"page-navigation\" role=\"navigation\">\\n      <div class=\"container-fluid\">\\n        <section id=\"block-easy-breadcrumb-easy-breadcrumb\" class=\"block block-easy-breadcrumb clearfix\">\\n\\n      \\n    <div class=\"block__content\">\\n    <nav id=\"breadcrumb\" class=\"breadcrumb\" role=\"navigation\" aria-label=\"breadcrumbs\"><span class=\"element-invisible\">You are here:</span><ol class=\"breadcrumb__segments-wrapper\"><li class=\"breadcrumb__segment breadcrumb__segment--first\"><a href=\"/info/index_en\" class=\"breadcrumb__link\" rel=\"home\"><span class=\"breadcrumb__text\">Home</span></a></li><li class=\"breadcrumb__segment\" style=\"display:none;\"><a href=\"/info/live-work-travel-eu_en\" class=\"breadcrumb__link\"><span class=\"breadcrumb__text\">Live, work, travel in the EU</span></a></li><li class=\"breadcrumb__segment\" style=\"display:none;\"><a href=\"/info/live-work-travel-eu/health_en\" class=\"breadcrumb__link\"><span class=\"breadcrumb__text\">Health</span></a></li><li class=\"breadcrumb__segment\" style=\"display:none;\"><a href=\"/info/live-work-travel-eu/health/coronavirus-response_en\" class=\"breadcrumb__link\"><span class=\"breadcrumb__text\">Coronavirus response</span></a></li><li class=\"breadcrumb__segment breadcrumb__segment--penultimate\"><a href=\"/info/live-work-travel-eu/health/coronavirus-response/public-health_en\" class=\"breadcrumb__link\"><span class=\"breadcrumb__text\">Public health</span></a></li><li class=\"breadcrumb__segment breadcrumb__segment--last\"><span class=\"breadcrumb__text\">Stay healthy - practical information</span></li></ol></nav>  </div>\\n  \\n</section>\\n      </div>\\n    </nav>\\n  \\n    <div class=\"container-fluid page-header__hero-title\">\\n      <div class=\"row padding-reset\">\\n        <div class=\"col-lg-9 \">\\n          <div  class=\"field field-name-title field--title\"><div class=\"field__items\"><h1>Stay healthy - practical information</h1></div></div>        </div>\\n\\n            </div>\\n    </div>\\n  </div>\\n\\n\\n  <div class=\"page-content\">\\n    <a id=\"main-content\" tabindex=\"-1\"></a>\\n\\n  \\n    <div class=\"container-fluid\">\\n        \\n          <div class=\"row\">\\n\\n      \\n      \\n        <section class=\"col-sm-12 section col-md-12\">\\n          <div   class=\"section__group \"><div  class=\"field field-name-body field--wysiwyg field--body\"><div class=\"field__items\"><table align=\"left\" class=\"table-responsive\" style=\"width:100%\">\\n\\t<tbody>\\n\\t\\t<tr>\\n\\t\\t\\t<td width=\"250\">Is it only dangerous for some people?</td>\\n\\t\\t\\t<td>\\n\\t\\t\\t\\t<p>Illness due to infection is generally&nbsp;mild, especially for children and&nbsp;young adults. It mostly affects the elderly&nbsp;and those with other underlying&nbsp;conditions. But <strong>even if you have mild or no symptoms, you can still infect others.</strong></p>\\n\\t\\t\\t</td>\\n\\t\\t\\t<td width=\"192\"><span id=\"file-536114\" class=\"file file-image file-image-jpeg file--image\">\\n  <img alt=\"Two people tallking\" class=\"media-element file-wysiwyg img-responsive\" data-delta=\"1\" typeof=\"foaf:Image\" src=\"https://ec.europa.eu/info/sites/info/files/covid-19_92x92.jpg\" width=\"192\" height=\"192\" /></span>\\n</td>\\n\\t\\t</tr>\\n\\t\\t<tr>\\n\\t\\t\\t<td width=\"250\">What should I know if I am caring for someone with the coronavirus?</td>\\n\\t\\t\\t<td>You should wear disposable gloves and a facemask whilst caring for someone who has been infected. Frequently touched surfaces should be cleaned regularly with a disinfectant (e.g. alcohol or bleach containing solution) and bed linens, towels, and textiles should be washed using a hot-water cycle (90\\xc2\\xb0C). Used tissues, masks, etc., should be disposed of preferably in a separate closed bin.</td>\\n\\t\\t\\t<td width=\"192\"><span id=\"file-556886\" class=\"file file-image file-image-png file--image\">\\n  <img alt=\"cleaning products\" style=\"height: 150px; width: 150px;\" class=\"media-element file-wysiwyg img-responsive\" data-delta=\"10\" typeof=\"foaf:Image\" src=\"https://ec.europa.eu/info/sites/info/files/covid-19_92x9211.png\" width=\"92\" height=\"92\" /></span>\\n</td>\\n\\t\\t</tr>\\n\\t\\t<tr>\\n\\t\\t\\t<td>How do I protect myself?</td>\\n\\t\\t\\t<td>\\n\\t\\t\\t\\t<p>Regularly <strong>wash your hands</strong>&nbsp;with soap and water for at&nbsp;least 20 seconds or use an&nbsp;alcohol-based disinfectant&nbsp; solution. <strong>Cover your mouth and nose&nbsp;with the crook of your elbow when you cough or sneeze</strong> or use a tissue and dispose of it immediately. <strong>Avoid touching your eyes, nose and mouth</strong> without washing your hands first. <strong>Keep 1 to 2 meters away</strong> from anyone coughing or sneezing. <strong>Stay at home</strong> where possible.</p>\\n\\t\\t\\t</td>\\n\\t\\t\\t<td width=\"192\"><span id=\"file-536115\" class=\"file file-image file-image-jpeg file--image\">\\n  <img alt=\"Washing hands, disposable tissue\" class=\"media-element file-wysiwyg img-responsive\" data-delta=\"2\" typeof=\"foaf:Image\" src=\"https://ec.europa.eu/info/sites/info/files/covid-19_92x922.jpg\" width=\"192\" height=\"192\" /></span>\\n</td>\\n\\t\\t</tr>\\n\\t\\t<tr>\\n\\t\\t\\t<td>I feel fine and I do not have any symptoms. Does this mean it is safe for me to meet other people?</td>\\n\\t\\t\\t<td>Some people become infected, but do not develop any symptoms or those are very mild and may go unnoticed. However, these people may still infect others. It is important to protect yourself \\xe2\\x80\\x93 and others \\xe2\\x80\\x93 by practising strict <strong>hand hygiene, cough etiquette and physical distancing.</strong></td>\\n\\t\\t\\t<td width=\"192\"><span id=\"file-556839\" class=\"file file-image file-image-png file--image\">\\n  <img alt=\"protection methods from COVID\" style=\"height: 150px; width: 150px;\" class=\"media-element file-wysiwyg img-responsive\" data-delta=\"9\" typeof=\"foaf:Image\" src=\"https://ec.europa.eu/info/sites/info/files/covid-19_92x9212.png\" width=\"92\" height=\"92\" /></span>\\n</td>\\n\\t\\t</tr>\\n\\t\\t<tr>\\n\\t\\t\\t<td>What do I do if I have symptoms?</td>\\n\\t\\t\\t<td>\\n\\t\\t\\t\\t<p><strong>Call the <a href=\"https://www.ecdc.europa.eu/en/novel-coronavirus-china/sources-updated\">emergency number</a> or&nbsp;phone the nearest emergency&nbsp;department</strong> and describe your&nbsp;symptoms. They will tell you the procedure&nbsp;to follow.</p>\\n\\t\\t\\t</td>\\n\\t\\t\\t<td width=\"192\"><span id=\"file-536119\" class=\"file file-image file-image-jpeg file--image\">\\n  <img alt=\"Medical symbols: emergency call, nurse, hospital\" class=\"media-element file-wysiwyg img-responsive\" data-delta=\"4\" typeof=\"foaf:Image\" src=\"https://ec.europa.eu/info/sites/info/files/covid-19_92x925.jpg\" width=\"192\" height=\"192\" /></span>\\n</td>\\n\\t\\t</tr>\\n\\t\\t<tr>\\n\\t\\t\\t<td>Is there a vaccine or treatment available?</td>\\n\\t\\t\\t<td>\\n\\t\\t\\t\\t<p>Not yet. To date, <strong>there is no vaccine and no specific&nbsp;medicine to prevent or treat coronavirus.</strong> The development of vaccines takes time and the&nbsp;EU is supporting research into possible vaccines,&nbsp;diagnostics and treatments.</p>\\n\\t\\t\\t</td>\\n\\t\\t\\t<td width=\"192\"><span id=\"file-536120\" class=\"file file-image file-image-jpeg file--image\">\\n  <img alt=\"Doctor&#039;s hand holding a syring\" class=\"media-element file-wysiwyg img-responsive\" data-delta=\"5\" typeof=\"foaf:Image\" src=\"https://ec.europa.eu/info/sites/info/files/covid-19_92x924.jpg\" width=\"192\" height=\"192\" /></span>\\n</td>\\n\\t\\t</tr>\\n\\t\\t<tr>\\n\\t\\t\\t<td>What should I do if I am told to isolate at home?</td>\\n\\t\\t\\t<td>\\n\\t\\t\\t\\t<p><strong>Stay at home</strong> (i.e. don\\xe2\\x80\\x99t go to work, school&nbsp;or public places).</p>\\n\\n\\t\\t\\t\\t<p><strong>Clean and disinfect your home</strong>, particularly&nbsp;frequently touched surfaces and toilets.</p>\\n\\n\\t\\t\\t\\t<p><strong>Self-monitor for coronavirus symptoms</strong>, including fever, cough and difficulty breathing. If symptoms develop, call your local health&nbsp;care services for advice.</p>\\n\\t\\t\\t</td>\\n\\t\\t\\t<td width=\"192\"><span id=\"file-536123\" class=\"file file-image file-image-png file--image\">\\n  <img alt=\"Woman sitting on her couch\" style=\"height: 192px; width: 192px;\" class=\"media-element file-wysiwyg img-responsive\" data-delta=\"6\" typeof=\"foaf:Image\" src=\"https://ec.europa.eu/info/sites/info/files/covid-19_92x928.png\" width=\"295\" height=\"295\" /></span>\\n</td>\\n\\t\\t</tr>\\n\\t\\t<tr>\\n\\t\\t\\t<td>What should I do if I feel anxious or stressed about coronavirus?</td>\\n\\t\\t\\t<td><strong>Continue to talk to family and friends</strong> over the phone or online. <strong>Avoid news that might cause you to feel anxious</strong> or distressed; take practical steps to protect yourself and loved ones. Understand that <strong>this is an exceptional situation that requires exceptional measures</strong> to bring the end to the epidemic as quickly as possible.</td>\\n\\t\\t\\t<td width=\"192\"><span id=\"file-536125\" class=\"file file-image file-image-png file--image\">\\n  <img alt=\"Woman crying\" style=\"height: 192px; width: 192px;\" class=\"media-element file-wysiwyg img-responsive\" data-delta=\"7\" typeof=\"foaf:Image\" src=\"https://ec.europa.eu/info/sites/info/files/covid-19_92x9210.png\" width=\"295\" height=\"295\" /></span>\\n</td>\\n\\t\\t</tr>\\n\\t\\t<tr>\\n\\t\\t\\t<td>What is social distancing?</td>\\n\\t\\t\\t<td>By keeping away from other people, <strong>you reduce the risk of breathing in droplets</strong>, which include the virus, or <strong>contaminating other people</strong>. Avoid crowds of people, peak hours in supermarkets or on public transport. But remember, <strong>social distancing does not mean no contact:</strong> stay in touch with friends and family by phone, social media or online apps.</td>\\n\\t\\t\\t<td width=\"192\"><span id=\"file-536127\" class=\"file file-image file-image-png file--image\">\\n  <img alt=\"Man talking on the phone\" style=\"height: 192px; width: 192px;\" class=\"media-element file-wysiwyg img-responsive\" data-delta=\"8\" typeof=\"foaf:Image\" src=\"https://ec.europa.eu/info/sites/info/files/covid-19_92x92.png\" width=\"295\" height=\"295\" /></span>\\n</td>\\n\\t\\t</tr>\\n\\t</tbody>\\n</table>\\n</div></div></div>        </section>\\n\\n      </div>\\n    \\n    \\n    </div>\\n  </div>\\n\\n</div>\\n\\n  </div>\\n  \\n</section>\\n  </div>\\n\\n  </section>\\n\\n<footer class=\"footer\">\\n    <section class=\"footer__feedback\">\\n      <div class=\"region region-footer-feedback\">\\n    <section id=\"block-nexteuropa-feedback-nexteuropa-feedback\" class=\"block block-nexteuropa-feedback feedback-form__wrapper clearfix\">\\n\\n      \\n    <div class=\"block__content\">\\n    <div class=\"feedback-form\">\\n  <div class=\"feedback-form__top\">\\n    <div class=\"container-fluid\">\\n      <div class=\"feedback-form__top-content\">\\n        <div class=\"feedback-form__useful\">\\n          <span>Was this page useful?</span>\\n          <div class=\"btn-group\">\\n            <button type=\"button\" id=\"btn-useful-yes\" class=\"btn btn-primary\" data-target=\"#feedback-form__content\" value=\"Yes\">Yes</button>\\n            <button type=\"button\" id=\"btn-useful-no\" class=\"btn btn-primary\" data-target=\"#feedback-form__content\" data-hash=\"m7L5kiwTH9ZulKBaqd9vx9NYq1n0obWTNlLHnAnUEU8\" value=\"No\">No</button>\\n          </div>\\n        </div>\\n        <a href=\"#feedback-form__content\" data-toggle=\"collapse\" class=\"feedback-form__trigger collapsed\" data-target=\"#feedback-form__content\" aria-expanded=\"false\"><span>Is there an issue with this page? <i class=\"icon icon--down\"></i></span></a>\\n      </div>\\n    </div>\\n  </div>\\n  <div class=\"container-fluid\">\\n    <span class=\"feedback-form__arrow\"></span>\\n    <div id=\"feedback-form__content\" class=\"collapse\" aria-expanded=\"false\" style=\"height: 0;\"></div>\\n  </div>\\n</div>\\n  </div>\\n  \\n</section>\\n  </div>\\n  </section>\\n        \\n<div class=\"ec-footer\">\\n  <div class=\"container-fluid\">\\n    <div class=\"ec-footer__top\">\\n      <div class=\"row\">\\n        <div class=\"col-md-4 ec-footer__identity\">\\n          <h4 class=\"ec-footer-heading\"><a href=\"https://ec.europa.eu/info/index_en\">European Commission website</a></h4>\\n          <span>This site is managed by the Directorate-General for Communication</span>\\n        </div>\\n        <div class=\"col-md-4 ec-footer__menu\">\\n          <ul class=\"links\"><li class=\"menu-39394 first\"><a href=\"https://ec.europa.eu/info/strategy_en\" data-display-title=\"1\" data-hide-children=\"0\" data-remove-class=\"0\">Strategy</a></li>\\n<li class=\"menu-39370\"><a href=\"https://ec.europa.eu/info/about-european-commission_en\" data-display-title=\"1\" data-hide-children=\"0\" data-remove-class=\"0\">About the European Commission</a></li>\\n<li class=\"menu-39385\"><a href=\"https://ec.europa.eu/info/business-economy-euro_en\" data-display-title=\"1\" data-hide-children=\"0\" data-remove-class=\"0\">Business, Economy, Euro</a></li>\\n<li class=\"menu-39397\"><a href=\"https://ec.europa.eu/info/live-work-travel-eu_en\" data-display-title=\"1\" data-hide-children=\"0\" data-remove-class=\"0\">Live, work, travel in the EU</a></li>\\n<li class=\"menu-39400\"><a href=\"https://ec.europa.eu/info/law_en\" data-display-title=\"1\" data-hide-children=\"0\" data-remove-class=\"0\">Law</a></li>\\n<li class=\"menu-39406\"><a href=\"https://ec.europa.eu/info/funding-tenders_en\" data-display-title=\"1\" data-hide-children=\"0\" data-remove-class=\"0\">Funding, Tenders</a></li>\\n<li class=\"menu-39391\"><a href=\"https://ec.europa.eu/info/research-and-innovation_en\" data-display-title=\"1\" data-hide-children=\"0\" data-remove-class=\"0\">Research and innovation</a></li>\\n<li class=\"menu-39403\"><a href=\"https://ec.europa.eu/info/energy-climate-change-environment_en\" data-display-title=\"1\" data-hide-children=\"0\" data-remove-class=\"0\">Energy, Climate change, Environment</a></li>\\n<li class=\"menu-39388 last\"><a href=\"https://ec.europa.eu/info/education_en\" data-display-title=\"1\" data-hide-children=\"0\" data-remove-class=\"0\">Education</a></li>\\n</ul>        </div>\\n        <div class=\"col-md-4 ec-footer__menu\">\\n          <ul class=\"links\"><li class=\"menu-39361 first\"><a href=\"https://ec.europa.eu/info/aid-development-cooperation-fundamental-rights_en\" data-display-title=\"1\" data-hide-children=\"0\" data-remove-class=\"0\">Aid, Development cooperation, Fundamental rights</a></li>\\n<li class=\"menu-39355\"><a href=\"https://ec.europa.eu/info/food-farming-fisheries_en\" data-display-title=\"1\" data-hide-children=\"0\" data-remove-class=\"0\">Food, Farming, Fisheries</a></li>\\n<li class=\"menu-39358\"><a href=\"https://ec.europa.eu/info/eu-regional-and-urban-development_en\" data-display-title=\"1\" data-hide-children=\"0\" data-remove-class=\"0\">EU regional and urban development</a></li>\\n<li class=\"menu-39349\"><a href=\"https://ec.europa.eu/info/jobs-european-commission_en\" data-display-title=\"1\" data-hide-children=\"0\" data-remove-class=\"0\">Jobs at the European Commission</a></li>\\n<li class=\"menu-39343\"><a href=\"https://ec.europa.eu/info/statistics_en\" data-display-title=\"1\" data-hide-children=\"0\" data-remove-class=\"0\">Statistics</a></li>\\n<li class=\"menu-39346\"><a href=\"https://ec.europa.eu/commission/presscorner/home/en\" data-display-title=\"1\" data-hide-children=\"0\" data-remove-class=\"0\">News</a></li>\\n<li class=\"menu-39352\"><a href=\"https://ec.europa.eu/info/events_en\" data-display-title=\"1\" data-hide-children=\"0\" data-remove-class=\"0\">Events</a></li>\\n<li class=\"menu-39340 last\"><a href=\"https://ec.europa.eu/info/publications_en\" data-display-title=\"1\" data-hide-children=\"0\" data-remove-class=\"0\">Publications</a></li>\\n</ul>        </div>\\n      </div>\\n      <div class=\"row\">\\n        <div class=\"col-md-8 col-md-offset-4\">\\n          <div class=\"ec-footer__divider\"></div>\\n        </div>\\n      </div>\\n    </div>\\n    <div class=\"ec-footer__bottom\">\\n      <div class=\"row\">\\n        <div class=\"col-md-4 col-md-offset-4 ec-footer__menu\">\\n          <ul class=\"links\"><li class=\"menu-39409 first\"><a href=\"https://ec.europa.eu/info/about-european-commission/contact_en\" data-display-title=\"1\" data-hide-children=\"0\" data-remove-class=\"0\">Contact the European Commission</a></li>\\n<li class=\"menu-39379\"><a href=\"https://europa.eu/european-union/contact/social-networks_en#n:+i:4+e:1+t:+s\" data-display-title=\"1\" data-hide-children=\"0\" data-remove-class=\"0\">Follow the European Commission on social media</a></li>\\n<li class=\"menu-39382 last\"><a href=\"https://ec.europa.eu/info/resources-partners_en\" data-display-title=\"1\" data-hide-children=\"0\" data-remove-class=\"0\">Resources for partners</a></li>\\n</ul>        </div>\\n        <div class=\"col-md-4 ec-footer__menu\">\\n          <ul class=\"links\"><li class=\"menu-39373 first\"><a href=\"https://ec.europa.eu/info/language-policy_en\" data-display-title=\"1\" data-hide-children=\"0\" data-remove-class=\"0\">Language policy</a></li>\\n<li class=\"menu-39376\"><a href=\"https://ec.europa.eu/info/cookies_en\" data-display-title=\"1\" data-hide-children=\"0\" data-remove-class=\"0\">Cookies</a></li>\\n<li class=\"menu-39367\"><a href=\"https://ec.europa.eu/info/privacy-policy_en\" data-display-title=\"1\" data-hide-children=\"0\" data-remove-class=\"0\">Privacy policy</a></li>\\n<li class=\"menu-39364\"><a href=\"https://ec.europa.eu/info/legal-notice_en\" data-display-title=\"1\" data-hide-children=\"0\" data-remove-class=\"0\">Legal notice</a></li>\\n<li class=\"menu-39970 last\"><a href=\"https://ec.europa.eu/info/brexit-content-disclaimer_en\" data-display-title=\"1\" data-hide-children=\"0\" data-remove-class=\"0\">Brexit content disclaimer</a></li>\\n</ul>        </div>\\n      </div>\\n    </div>\\n  </div>\\n</div>\\n  </footer>\\n  <script src=\"https://ec.europa.eu/info/sites/info/modules/contrib/picture/picturefill2/picturefill.min.js?v=2.3.1\"></script>\\n<script src=\"https://ec.europa.eu/info/sites/info/modules/contrib/picture/picture.min.js?v=7.69\"></script>\\n<script src=\"https://ec.europa.eu/info/sites/info/themes/bootstrap/js/bootstrap.js?qbgkv5\"></script>\\n<script type=\"application/json\">{\"utility\":\"piwik\",\"siteID\":\"237\",\"sitePath\":[\"ec.europa.eu\"],\"is404\":false,\"is403\":false,\"instance\":\"ec.europa.eu\",\"siteSection\":\"info classLiveWorkTraveleu\"}</script>\\n</body>\\n</html>\\n'"
            ]
          },
          "metadata": {
            "tags": []
          },
          "execution_count": 6
        }
      ]
    },
    {
      "cell_type": "code",
      "metadata": {
        "id": "1iDeZGP9FjI7",
        "colab_type": "code",
        "colab": {}
      },
      "source": [
        "soup = BeautifulSoup(r.content, 'html.parser')\n",
        "table = soup.find_all(\"table\", class_= \"table-responsive\")"
      ],
      "execution_count": 0,
      "outputs": []
    },
    {
      "cell_type": "code",
      "metadata": {
        "id": "jFOv_TplFjJB",
        "colab_type": "code",
        "outputId": "0418f586-8fd1-4dff-b038-72498ffd38c9",
        "colab": {
          "base_uri": "https://localhost:8080/",
          "height": 34
        }
      },
      "source": [
        "print(len(table))"
      ],
      "execution_count": 0,
      "outputs": [
        {
          "output_type": "stream",
          "text": [
            "1\n"
          ],
          "name": "stdout"
        }
      ]
    },
    {
      "cell_type": "code",
      "metadata": {
        "id": "VfO_FXCiFjJG",
        "colab_type": "code",
        "outputId": "4c554156-fc9f-4883-8742-c9478f01f6f2",
        "colab": {
          "base_uri": "https://localhost:8080/",
          "height": 35
        }
      },
      "source": [
        "type(table)"
      ],
      "execution_count": 8,
      "outputs": [
        {
          "output_type": "execute_result",
          "data": {
            "text/plain": [
              "bs4.element.ResultSet"
            ]
          },
          "metadata": {
            "tags": []
          },
          "execution_count": 8
        }
      ]
    },
    {
      "cell_type": "code",
      "metadata": {
        "id": "tt_NijO3FjJK",
        "colab_type": "code",
        "colab": {}
      },
      "source": [
        "table = table[0]"
      ],
      "execution_count": 0,
      "outputs": []
    },
    {
      "cell_type": "code",
      "metadata": {
        "id": "4ayFCGggFjJQ",
        "colab_type": "code",
        "outputId": "f7e8a3ba-d78a-4c38-95c2-f39cc18c5eef",
        "colab": {
          "base_uri": "https://localhost:8080/",
          "height": 35
        }
      },
      "source": [
        "type(table)"
      ],
      "execution_count": 10,
      "outputs": [
        {
          "output_type": "execute_result",
          "data": {
            "text/plain": [
              "bs4.element.Tag"
            ]
          },
          "metadata": {
            "tags": []
          },
          "execution_count": 10
        }
      ]
    },
    {
      "cell_type": "code",
      "metadata": {
        "code_folding": [],
        "id": "dOHXXrNtFjJU",
        "colab_type": "code",
        "outputId": "ba090c3d-66c1-4e84-ede2-646cf0eeb310",
        "colab": {
          "base_uri": "https://localhost:8080/",
          "height": 1000
        }
      },
      "source": [
        "# To check info:\n",
        "for row in table.find_all('tr'):\n",
        "    for cell in row.find_all('td'):\n",
        "        print(cell.text)"
      ],
      "execution_count": 11,
      "outputs": [
        {
          "output_type": "stream",
          "text": [
            "Is it only dangerous for some people?\n",
            "\n",
            "Illness due to infection is generally mild, especially for children and young adults. It mostly affects the elderly and those with other underlying conditions. But even if you have mild or no symptoms, you can still infect others.\n",
            "\n",
            "\n",
            "\n",
            "\n",
            "What should I know if I am caring for someone with the coronavirus?\n",
            "You should wear disposable gloves and a facemask whilst caring for someone who has been infected. Frequently touched surfaces should be cleaned regularly with a disinfectant (e.g. alcohol or bleach containing solution) and bed linens, towels, and textiles should be washed using a hot-water cycle (90°C). Used tissues, masks, etc., should be disposed of preferably in a separate closed bin.\n",
            "\n",
            "\n",
            "\n",
            "How do I protect myself?\n",
            "\n",
            "Regularly wash your hands with soap and water for at least 20 seconds or use an alcohol-based disinfectant  solution. Cover your mouth and nose with the crook of your elbow when you cough or sneeze or use a tissue and dispose of it immediately. Avoid touching your eyes, nose and mouth without washing your hands first. Keep 1 to 2 meters away from anyone coughing or sneezing. Stay at home where possible.\n",
            "\n",
            "\n",
            "\n",
            "\n",
            "I feel fine and I do not have any symptoms. Does this mean it is safe for me to meet other people?\n",
            "Some people become infected, but do not develop any symptoms or those are very mild and may go unnoticed. However, these people may still infect others. It is important to protect yourself – and others – by practising strict hand hygiene, cough etiquette and physical distancing.\n",
            "\n",
            "\n",
            "\n",
            "What do I do if I have symptoms?\n",
            "\n",
            "Call the emergency number or phone the nearest emergency department and describe your symptoms. They will tell you the procedure to follow.\n",
            "\n",
            "\n",
            "\n",
            "\n",
            "Is there a vaccine or treatment available?\n",
            "\n",
            "Not yet. To date, there is no vaccine and no specific medicine to prevent or treat coronavirus. The development of vaccines takes time and the EU is supporting research into possible vaccines, diagnostics and treatments.\n",
            "\n",
            "\n",
            "\n",
            "\n",
            "What should I do if I am told to isolate at home?\n",
            "\n",
            "Stay at home (i.e. don’t go to work, school or public places).\n",
            "Clean and disinfect your home, particularly frequently touched surfaces and toilets.\n",
            "Self-monitor for coronavirus symptoms, including fever, cough and difficulty breathing. If symptoms develop, call your local health care services for advice.\n",
            "\n",
            "\n",
            "\n",
            "\n",
            "What should I do if I feel anxious or stressed about coronavirus?\n",
            "Continue to talk to family and friends over the phone or online. Avoid news that might cause you to feel anxious or distressed; take practical steps to protect yourself and loved ones. Understand that this is an exceptional situation that requires exceptional measures to bring the end to the epidemic as quickly as possible.\n",
            "\n",
            "\n",
            "\n",
            "What is social distancing?\n",
            "By keeping away from other people, you reduce the risk of breathing in droplets, which include the virus, or contaminating other people. Avoid crowds of people, peak hours in supermarkets or on public transport. But remember, social distancing does not mean no contact: stay in touch with friends and family by phone, social media or online apps.\n",
            "\n",
            "\n",
            "\n"
          ],
          "name": "stdout"
        }
      ]
    },
    {
      "cell_type": "code",
      "metadata": {
        "id": "YDT-rvqFFjJY",
        "colab_type": "code",
        "colab": {}
      },
      "source": [
        "# write info into a text file:\n",
        "with open ('public_advice_of_EC.csv', 'w') as f:\n",
        "    for row in table.find_all('tr'):\n",
        "        for cell in row.find_all('td'):\n",
        "            f.write(cell.text)\n",
        "        f.write('\\n')        # writes table-rows in the format of row."
      ],
      "execution_count": 0,
      "outputs": []
    },
    {
      "cell_type": "code",
      "metadata": {
        "id": "k4DotSiBFjJd",
        "colab_type": "code",
        "outputId": "386195a8-598d-4800-e8de-61ea2dd6d474",
        "colab": {
          "base_uri": "https://localhost:8080/",
          "height": 325
        }
      },
      "source": [
        "# A pandas fuction to alternatively scrape the table:\n",
        "import pandas as pd\n",
        "url='https://ec.europa.eu/info/live-work-travel-eu/health/coronavirus-response/public-health/stay-healthy-practical-information_en'\n",
        "table=pd.read_html(url, match='dangerous')\n",
        "table[0]"
      ],
      "execution_count": 12,
      "outputs": [
        {
          "output_type": "execute_result",
          "data": {
            "text/html": [
              "<div>\n",
              "<style scoped>\n",
              "    .dataframe tbody tr th:only-of-type {\n",
              "        vertical-align: middle;\n",
              "    }\n",
              "\n",
              "    .dataframe tbody tr th {\n",
              "        vertical-align: top;\n",
              "    }\n",
              "\n",
              "    .dataframe thead th {\n",
              "        text-align: right;\n",
              "    }\n",
              "</style>\n",
              "<table border=\"1\" class=\"dataframe\">\n",
              "  <thead>\n",
              "    <tr style=\"text-align: right;\">\n",
              "      <th></th>\n",
              "      <th>0</th>\n",
              "      <th>1</th>\n",
              "      <th>2</th>\n",
              "    </tr>\n",
              "  </thead>\n",
              "  <tbody>\n",
              "    <tr>\n",
              "      <th>0</th>\n",
              "      <td>Is it only dangerous for some people?</td>\n",
              "      <td>Illness due to infection is generally mild, es...</td>\n",
              "      <td>NaN</td>\n",
              "    </tr>\n",
              "    <tr>\n",
              "      <th>1</th>\n",
              "      <td>What should I know if I am caring for someone ...</td>\n",
              "      <td>You should wear disposable gloves and a facema...</td>\n",
              "      <td>NaN</td>\n",
              "    </tr>\n",
              "    <tr>\n",
              "      <th>2</th>\n",
              "      <td>How do I protect myself?</td>\n",
              "      <td>Regularly wash your hands with soap and water ...</td>\n",
              "      <td>NaN</td>\n",
              "    </tr>\n",
              "    <tr>\n",
              "      <th>3</th>\n",
              "      <td>I feel fine and I do not have any symptoms. Do...</td>\n",
              "      <td>Some people become infected, but do not develo...</td>\n",
              "      <td>NaN</td>\n",
              "    </tr>\n",
              "    <tr>\n",
              "      <th>4</th>\n",
              "      <td>What do I do if I have symptoms?</td>\n",
              "      <td>Call the emergency number or phone the nearest...</td>\n",
              "      <td>NaN</td>\n",
              "    </tr>\n",
              "    <tr>\n",
              "      <th>5</th>\n",
              "      <td>Is there a vaccine or treatment available?</td>\n",
              "      <td>Not yet. To date, there is no vaccine and no s...</td>\n",
              "      <td>NaN</td>\n",
              "    </tr>\n",
              "    <tr>\n",
              "      <th>6</th>\n",
              "      <td>What should I do if I am told to isolate at home?</td>\n",
              "      <td>Stay at home (i.e. don’t go to work, school or...</td>\n",
              "      <td>NaN</td>\n",
              "    </tr>\n",
              "    <tr>\n",
              "      <th>7</th>\n",
              "      <td>What should I do if I feel anxious or stressed...</td>\n",
              "      <td>Continue to talk to family and friends over th...</td>\n",
              "      <td>NaN</td>\n",
              "    </tr>\n",
              "    <tr>\n",
              "      <th>8</th>\n",
              "      <td>What is social distancing?</td>\n",
              "      <td>By keeping away from other people, you reduce ...</td>\n",
              "      <td>NaN</td>\n",
              "    </tr>\n",
              "  </tbody>\n",
              "</table>\n",
              "</div>"
            ],
            "text/plain": [
              "                                                   0  ...   2\n",
              "0              Is it only dangerous for some people?  ... NaN\n",
              "1  What should I know if I am caring for someone ...  ... NaN\n",
              "2                           How do I protect myself?  ... NaN\n",
              "3  I feel fine and I do not have any symptoms. Do...  ... NaN\n",
              "4                   What do I do if I have symptoms?  ... NaN\n",
              "5         Is there a vaccine or treatment available?  ... NaN\n",
              "6  What should I do if I am told to isolate at home?  ... NaN\n",
              "7  What should I do if I feel anxious or stressed...  ... NaN\n",
              "8                         What is social distancing?  ... NaN\n",
              "\n",
              "[9 rows x 3 columns]"
            ]
          },
          "metadata": {
            "tags": []
          },
          "execution_count": 12
        }
      ]
    },
    {
      "cell_type": "code",
      "metadata": {
        "id": "G2Z-Yrl5FjJj",
        "colab_type": "code",
        "colab": {}
      },
      "source": [
        "# Export the DataFrame to a CSV file without index\n",
        "df=table[0]\n",
        "df.to_csv(r'conten\\drive\\My Drive\\Final_Project\\EC_advice_for_public.csv', index = False)"
      ],
      "execution_count": 0,
      "outputs": []
    },
    {
      "cell_type": "code",
      "metadata": {
        "id": "EI_rCbgyJI35",
        "colab_type": "code",
        "colab": {}
      },
      "source": [
        ""
      ],
      "execution_count": 0,
      "outputs": []
    },
    {
      "cell_type": "markdown",
      "metadata": {
        "id": "B2KRuXIU6cR-",
        "colab_type": "text"
      },
      "source": [
        "## Complete code as a function"
      ]
    },
    {
      "cell_type": "code",
      "metadata": {
        "id": "zLz5aTLg6jKk",
        "colab_type": "code",
        "outputId": "57ad647d-fef3-4218-cd6b-5dc76e9ba2b9",
        "colab": {
          "base_uri": "https://localhost:8080/",
          "height": 35
        }
      },
      "source": [
        "def get_public_advice():\n",
        "  # import libraries\n",
        "  import requests\n",
        "  from bs4 import BeautifulSoup\n",
        "  import pandas as pd\n",
        "\n",
        "\n",
        "  \n",
        "  url='https://ec.europa.eu/info/live-work-travel-eu/health/coronavirus-response/public-health/stay-healthy-practical-information_en'\n",
        "  \n",
        "  table=pd.read_html(url, match='dangerous')\n",
        "  df=table[0]\n",
        "  df = df.dropna(how='all', axis=1)\n",
        "  df.columns = [\"Questions\", \"Answers\"]\n",
        "  df[['Questions', 'Answers']].to_csv(r\"C:\\Users\\Pro\\section1.csv\", mode='w', index = False)\n",
        "  \n",
        "  print(\"The 'Public_advice.csv' is successfully updated!\")\n",
        "\n",
        "\n",
        "\n",
        "get_public_advice()\n",
        "\n"
      ],
      "execution_count": 23,
      "outputs": [
        {
          "output_type": "stream",
          "text": [
            "The 'Public_advice.csv' is successfully updated!\n"
          ],
          "name": "stdout"
        }
      ]
    },
    {
      "cell_type": "code",
      "metadata": {
        "id": "_fbcvp685w6j",
        "colab_type": "code",
        "colab": {
          "base_uri": "https://localhost:8080/",
          "height": 325
        },
        "outputId": "7a304d34-4ce1-4e34-8c74-9eb0a3c39384"
      },
      "source": [
        "df = pd.read_csv(r\"C:\\Users\\Pro\\section1.csv\")\n",
        "df"
      ],
      "execution_count": 25,
      "outputs": [
        {
          "output_type": "execute_result",
          "data": {
            "text/html": [
              "<div>\n",
              "<style scoped>\n",
              "    .dataframe tbody tr th:only-of-type {\n",
              "        vertical-align: middle;\n",
              "    }\n",
              "\n",
              "    .dataframe tbody tr th {\n",
              "        vertical-align: top;\n",
              "    }\n",
              "\n",
              "    .dataframe thead th {\n",
              "        text-align: right;\n",
              "    }\n",
              "</style>\n",
              "<table border=\"1\" class=\"dataframe\">\n",
              "  <thead>\n",
              "    <tr style=\"text-align: right;\">\n",
              "      <th></th>\n",
              "      <th>Questions</th>\n",
              "      <th>Answers</th>\n",
              "    </tr>\n",
              "  </thead>\n",
              "  <tbody>\n",
              "    <tr>\n",
              "      <th>0</th>\n",
              "      <td>Is it only dangerous for some people?</td>\n",
              "      <td>Illness due to infection is generally mild, es...</td>\n",
              "    </tr>\n",
              "    <tr>\n",
              "      <th>1</th>\n",
              "      <td>What should I know if I am caring for someone ...</td>\n",
              "      <td>You should wear disposable gloves and a facema...</td>\n",
              "    </tr>\n",
              "    <tr>\n",
              "      <th>2</th>\n",
              "      <td>How do I protect myself?</td>\n",
              "      <td>Regularly wash your hands with soap and water ...</td>\n",
              "    </tr>\n",
              "    <tr>\n",
              "      <th>3</th>\n",
              "      <td>I feel fine and I do not have any symptoms. Do...</td>\n",
              "      <td>Some people become infected, but do not develo...</td>\n",
              "    </tr>\n",
              "    <tr>\n",
              "      <th>4</th>\n",
              "      <td>What do I do if I have symptoms?</td>\n",
              "      <td>Call the emergency number or phone the nearest...</td>\n",
              "    </tr>\n",
              "    <tr>\n",
              "      <th>5</th>\n",
              "      <td>Is there a vaccine or treatment available?</td>\n",
              "      <td>Not yet. To date, there is no vaccine and no s...</td>\n",
              "    </tr>\n",
              "    <tr>\n",
              "      <th>6</th>\n",
              "      <td>What should I do if I am told to isolate at home?</td>\n",
              "      <td>Stay at home (i.e. don’t go to work, school or...</td>\n",
              "    </tr>\n",
              "    <tr>\n",
              "      <th>7</th>\n",
              "      <td>What should I do if I feel anxious or stressed...</td>\n",
              "      <td>Continue to talk to family and friends over th...</td>\n",
              "    </tr>\n",
              "    <tr>\n",
              "      <th>8</th>\n",
              "      <td>What is social distancing?</td>\n",
              "      <td>By keeping away from other people, you reduce ...</td>\n",
              "    </tr>\n",
              "  </tbody>\n",
              "</table>\n",
              "</div>"
            ],
            "text/plain": [
              "                                           Questions                                            Answers\n",
              "0              Is it only dangerous for some people?  Illness due to infection is generally mild, es...\n",
              "1  What should I know if I am caring for someone ...  You should wear disposable gloves and a facema...\n",
              "2                           How do I protect myself?  Regularly wash your hands with soap and water ...\n",
              "3  I feel fine and I do not have any symptoms. Do...  Some people become infected, but do not develo...\n",
              "4                   What do I do if I have symptoms?  Call the emergency number or phone the nearest...\n",
              "5         Is there a vaccine or treatment available?  Not yet. To date, there is no vaccine and no s...\n",
              "6  What should I do if I am told to isolate at home?  Stay at home (i.e. don’t go to work, school or...\n",
              "7  What should I do if I feel anxious or stressed...  Continue to talk to family and friends over th...\n",
              "8                         What is social distancing?  By keeping away from other people, you reduce ..."
            ]
          },
          "metadata": {
            "tags": []
          },
          "execution_count": 25
        }
      ]
    },
    {
      "cell_type": "code",
      "metadata": {
        "id": "EMaFOPuW6y0z",
        "colab_type": "code",
        "colab": {}
      },
      "source": [
        ""
      ],
      "execution_count": 0,
      "outputs": []
    }
  ]
}